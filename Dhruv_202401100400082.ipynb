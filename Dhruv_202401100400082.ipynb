{
  "nbformat": 4,
  "nbformat_minor": 0,
  "metadata": {
    "colab": {
      "provenance": []
    },
    "kernelspec": {
      "name": "python3",
      "display_name": "Python 3"
    },
    "language_info": {
      "name": "python"
    }
  },
  "cells": [
    {
      "cell_type": "code",
      "execution_count": 1,
      "metadata": {
        "colab": {
          "base_uri": "https://localhost:8080/"
        },
        "id": "XT0u23YjRdxc",
        "outputId": "d278d007-36b6-4936-e170-0ccda5695e58"
      },
      "outputs": [
        {
          "output_type": "stream",
          "name": "stdout",
          "text": [
            "🤖 AI Number Guessing Game Start! 🤖\n",
            "I have thought of a number between 1 and 100. Can you guess it? 🤔\n",
            "Enter your guess (1-100): 89\n",
            "📈 Your guess is too high. Try a smaller number!\n",
            "Enter your guess (1-100): 67\n",
            "📉 Your guess is too low. Try a bigger number!\n",
            "Enter your guess (1-100): 89\n",
            "📈 Your guess is too high. Try a smaller number!\n",
            "Enter your guess (1-100): 77\n",
            "📉 Your guess is too low. Try a bigger number!\n",
            "Enter your guess (1-100): 85\n",
            "📈 Your guess is too high. Try a smaller number!\n",
            "Enter your guess (1-100): 82\n",
            "📈 Your guess is too high. Try a smaller number!\n",
            "Enter your guess (1-100): 79\n",
            "📉 Your guess is too low. Try a bigger number!\n",
            "Enter your guess (1-100): 81\n",
            "🎉 Correct! You guessed the number in 8 attempts. 🎯\n"
          ]
        }
      ],
      "source": [
        "import random\n",
        "\n",
        "def number_guessing_game():\n",
        "    print(\"🤖 AI Number Guessing Game Start! 🤖\")\n",
        "    print(\"I have thought of a number between 1 and 100. Can you guess it? 🤔\")\n",
        "\n",
        "    secret_number = random.randint(1, 100)  # AI generates a random number\n",
        "    attempts = 0  # Counter for the number of attempts\n",
        "\n",
        "    while True:  # Infinite loop until the correct number is guessed\n",
        "        try:\n",
        "            guess = int(input(\"Enter your guess (1-100): \"))  # User input\n",
        "\n",
        "            if guess < 1 or guess > 100:\n",
        "                print(\"⚠️ Invalid input! Please enter a number between 1 and 100.\")\n",
        "                continue  # If input is out of range, ask again\n",
        "\n",
        "            attempts += 1  # Increase attempt count\n",
        "\n",
        "            if guess < secret_number:\n",
        "                print(\"📉 Your guess is too low. Try a bigger number!\")\n",
        "            elif guess > secret_number:\n",
        "                print(\"📈 Your guess is too high. Try a smaller number!\")\n",
        "            else:\n",
        "                print(f\"🎉 Correct! You guessed the number in {attempts} attempts. 🎯\")\n",
        "                break  # Exit loop when correct\n",
        "\n",
        "        except ValueError:  # Handles errors when user enters non-numeric input\n",
        "            print(\"⚠️ Invalid input! Please enter a valid number.\")\n",
        "\n",
        "# Start the game\n",
        "if __name__ == \"__main__\":\n",
        "    number_guessing_game()\n"
      ]
    }
  ]
}